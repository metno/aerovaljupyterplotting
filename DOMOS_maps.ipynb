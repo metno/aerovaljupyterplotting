{
 "cells": [
  {
   "metadata": {},
   "cell_type": "markdown",
   "source": "# Install packagaes",
   "id": "b67473127bb37759"
  },
  {
   "metadata": {
    "ExecuteTime": {
     "end_time": "2025-07-02T09:29:28.005566Z",
     "start_time": "2025-07-02T09:29:27.460163Z"
    }
   },
   "cell_type": "code",
   "source": "!pip install pandas requests",
   "id": "3ac6ceff890cff3f",
   "outputs": [
    {
     "name": "stdout",
     "output_type": "stream",
     "text": [
      "Requirement already satisfied: pandas in /home/jang/micromamba/envs/aerocomjupyterplotting/lib/python3.12/site-packages (2.3.0)\r\n",
      "Requirement already satisfied: requests in /home/jang/micromamba/envs/aerocomjupyterplotting/lib/python3.12/site-packages (2.32.4)\r\n",
      "Requirement already satisfied: numpy>=1.26.0 in /home/jang/micromamba/envs/aerocomjupyterplotting/lib/python3.12/site-packages (from pandas) (2.3.1)\r\n",
      "Requirement already satisfied: python-dateutil>=2.8.2 in /home/jang/micromamba/envs/aerocomjupyterplotting/lib/python3.12/site-packages (from pandas) (2.9.0.post0)\r\n",
      "Requirement already satisfied: pytz>=2020.1 in /home/jang/micromamba/envs/aerocomjupyterplotting/lib/python3.12/site-packages (from pandas) (2025.2)\r\n",
      "Requirement already satisfied: tzdata>=2022.7 in /home/jang/micromamba/envs/aerocomjupyterplotting/lib/python3.12/site-packages (from pandas) (2025.2)\r\n",
      "Requirement already satisfied: charset_normalizer<4,>=2 in /home/jang/micromamba/envs/aerocomjupyterplotting/lib/python3.12/site-packages (from requests) (3.4.2)\r\n",
      "Requirement already satisfied: idna<4,>=2.5 in /home/jang/micromamba/envs/aerocomjupyterplotting/lib/python3.12/site-packages (from requests) (3.10)\r\n",
      "Requirement already satisfied: urllib3<3,>=1.21.1 in /home/jang/micromamba/envs/aerocomjupyterplotting/lib/python3.12/site-packages (from requests) (2.5.0)\r\n",
      "Requirement already satisfied: certifi>=2017.4.17 in /home/jang/micromamba/envs/aerocomjupyterplotting/lib/python3.12/site-packages (from requests) (2025.6.15)\r\n",
      "Requirement already satisfied: six>=1.5 in /home/jang/micromamba/envs/aerocomjupyterplotting/lib/python3.12/site-packages (from python-dateutil>=2.8.2->pandas) (1.17.0)\r\n"
     ]
    }
   ],
   "execution_count": 3
  },
  {
   "metadata": {},
   "cell_type": "markdown",
   "source": "# import Map data into pandas dataframe",
   "id": "69c4790d539ee41e"
  },
  {
   "metadata": {
    "collapsed": true,
    "ExecuteTime": {
     "end_time": "2025-07-02T09:30:29.626157Z",
     "start_time": "2025-07-02T09:30:29.543817Z"
    }
   },
   "cell_type": "code",
   "source": [
    "import pandas as pd\n",
    "import requests\n",
    "\n",
    "# parameters\n",
    "project = 'aerocom'\n",
    "experiment = 'glissetal-2021'\n",
    "network = 'AeronetSun'\n",
    "obsvar = 'od550aer'\n",
    "layer = 'Column'\n",
    "model = 'AEROCOM-MEDIAN'\n",
    "modvar = 'od550aer'\n",
    "time = '2010'\n",
    "frequency = 'monthly'\n",
    "season = 'all'\n",
    "# map aerovalAPI entrypoint\n",
    "url = f'https://api.aeroval.met.no/api/0.2.1/map/{project}/{experiment}/{network}/{obsvar}/{layer}/{model}/{modvar}/{time}/{frequency}/{season}'\n",
    "\n",
    "response = requests.get(url)\n",
    "# Check if the request was successful\n",
    "if response.status_code == 200:\n",
    "    # Parse the JSON data\n",
    "    data = response.json()\n",
    "else:\n",
    "    print(f'Failed to fetch data. Status code: {response.status_code}')\n",
    "\n",
    "# convert data to a DataFrame\n",
    "df = pd.json_normalize(data, sep='_')\n",
    "df.head()\n"
   ],
   "id": "initial_id",
   "outputs": [
    {
     "data": {
      "text/plain": [
       "    station_name   latitude   longitude  altitude     region\n",
       "0     ARM_Darwin -12.425000  130.891000      29.9  AUSTRALIA\n",
       "1     ATHENS-NOA  37.972100   23.718000     130.0    NAFRICA\n",
       "2        Agoufou  15.345400   -1.479117     305.0    NAFRICA\n",
       "3  Alta_Floresta  -9.871339  -56.104453     277.0   SAMERICA\n",
       "4           Ames  42.021361  -93.774778     338.0   NAMERICA"
      ],
      "text/html": [
       "<div>\n",
       "<style scoped>\n",
       "    .dataframe tbody tr th:only-of-type {\n",
       "        vertical-align: middle;\n",
       "    }\n",
       "\n",
       "    .dataframe tbody tr th {\n",
       "        vertical-align: top;\n",
       "    }\n",
       "\n",
       "    .dataframe thead th {\n",
       "        text-align: right;\n",
       "    }\n",
       "</style>\n",
       "<table border=\"1\" class=\"dataframe\">\n",
       "  <thead>\n",
       "    <tr style=\"text-align: right;\">\n",
       "      <th></th>\n",
       "      <th>station_name</th>\n",
       "      <th>latitude</th>\n",
       "      <th>longitude</th>\n",
       "      <th>altitude</th>\n",
       "      <th>region</th>\n",
       "    </tr>\n",
       "  </thead>\n",
       "  <tbody>\n",
       "    <tr>\n",
       "      <th>0</th>\n",
       "      <td>ARM_Darwin</td>\n",
       "      <td>-12.425000</td>\n",
       "      <td>130.891000</td>\n",
       "      <td>29.9</td>\n",
       "      <td>AUSTRALIA</td>\n",
       "    </tr>\n",
       "    <tr>\n",
       "      <th>1</th>\n",
       "      <td>ATHENS-NOA</td>\n",
       "      <td>37.972100</td>\n",
       "      <td>23.718000</td>\n",
       "      <td>130.0</td>\n",
       "      <td>NAFRICA</td>\n",
       "    </tr>\n",
       "    <tr>\n",
       "      <th>2</th>\n",
       "      <td>Agoufou</td>\n",
       "      <td>15.345400</td>\n",
       "      <td>-1.479117</td>\n",
       "      <td>305.0</td>\n",
       "      <td>NAFRICA</td>\n",
       "    </tr>\n",
       "    <tr>\n",
       "      <th>3</th>\n",
       "      <td>Alta_Floresta</td>\n",
       "      <td>-9.871339</td>\n",
       "      <td>-56.104453</td>\n",
       "      <td>277.0</td>\n",
       "      <td>SAMERICA</td>\n",
       "    </tr>\n",
       "    <tr>\n",
       "      <th>4</th>\n",
       "      <td>Ames</td>\n",
       "      <td>42.021361</td>\n",
       "      <td>-93.774778</td>\n",
       "      <td>338.0</td>\n",
       "      <td>NAMERICA</td>\n",
       "    </tr>\n",
       "  </tbody>\n",
       "</table>\n",
       "</div>"
      ]
     },
     "execution_count": 4,
     "metadata": {},
     "output_type": "execute_result"
    }
   ],
   "execution_count": 4
  }
 ],
 "metadata": {
  "kernelspec": {
   "display_name": "Python 3",
   "language": "python",
   "name": "python3"
  },
  "language_info": {
   "codemirror_mode": {
    "name": "ipython",
    "version": 2
   },
   "file_extension": ".py",
   "mimetype": "text/x-python",
   "name": "python",
   "nbconvert_exporter": "python",
   "pygments_lexer": "ipython2",
   "version": "2.7.6"
  }
 },
 "nbformat": 4,
 "nbformat_minor": 5
}
